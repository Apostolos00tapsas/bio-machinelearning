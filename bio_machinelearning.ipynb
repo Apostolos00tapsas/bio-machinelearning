{
  "nbformat": 4,
  "nbformat_minor": 0,
  "metadata": {
    "colab": {
      "name": "bio-machinelearning.ipynb",
      "provenance": [],
      "authorship_tag": "ABX9TyOZas1EdUIrz0HMiaDSgJRp",
      "include_colab_link": true
    },
    "kernelspec": {
      "name": "python3",
      "display_name": "Python 3"
    }
  },
  "cells": [
    {
      "cell_type": "markdown",
      "metadata": {
        "id": "view-in-github",
        "colab_type": "text"
      },
      "source": [
        "<a href=\"https://colab.research.google.com/github/Apostolos00tapsas/bio-machinelearning/blob/master/bio_machinelearning.ipynb\" target=\"_parent\"><img src=\"https://colab.research.google.com/assets/colab-badge.svg\" alt=\"Open In Colab\"/></a>"
      ]
    },
    {
      "cell_type": "markdown",
      "metadata": {
        "id": "cbS_HRa-sQ2n",
        "colab_type": "text"
      },
      "source": [
        "Wellcome\n"
      ]
    },
    {
      "cell_type": "code",
      "metadata": {
        "id": "Uu2piWK2sUfN",
        "colab_type": "code",
        "colab": {}
      },
      "source": [
        ""
      ],
      "execution_count": 0,
      "outputs": []
    }
  ]
}